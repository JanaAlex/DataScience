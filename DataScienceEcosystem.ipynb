{
 "cells": [
  {
   "cell_type": "markdown",
   "id": "74a99fe0-baad-4b13-a77e-bd9b91c9402c",
   "metadata": {},
   "source": [
    "# Data Science Tools and Ecosystem"
   ]
  },
  {
   "cell_type": "markdown",
   "id": "fafdf3ba-5f33-4517-b85b-0a37e20feff2",
   "metadata": {},
   "source": [
    "In this notebook, Data Science Tools and Ecosystem are summarized."
   ]
  },
  {
   "cell_type": "markdown",
   "id": "32490317-69f8-496e-a45e-f29c8cb1689c",
   "metadata": {},
   "source": [
    "**Objectives**:\n",
    "* Difference and usage of markdown and code cells in Python\n",
    "* List popular languages for Data Science\n",
    "* How to create ordered and unordered lists in Python\n",
    "* How to create tables in Python\n",
    "* Simple arithmetic operations"
   ]
  },
  {
   "cell_type": "markdown",
   "id": "b887d992-1c79-4af7-b862-71266b4d3bb4",
   "metadata": {},
   "source": [
    "Some of the popular languages that Data Scientists use are:\n",
    "1. Python\n",
    "2. R\n",
    "3. SQL\n",
    "4. Scala"
   ]
  },
  {
   "cell_type": "markdown",
   "id": "2af6f8d1-4ad1-4d00-9972-4ced53a734d1",
   "metadata": {},
   "source": [
    "Some of the commonly used libreries used by Data Scientists include:\n",
    "1. Pandas\n",
    "2. NumPy\n",
    "3. MatplotLib\n",
    "4. ggplot2"
   ]
  },
  {
   "cell_type": "markdown",
   "id": "8676ffeb-70e5-4d17-b7f0-3bc2a9e093f1",
   "metadata": {},
   "source": [
    "|Data Science Tools|\n",
    "|--------------------|\n",
    "|JupyterLite|\n",
    "|JupyterLab|\n",
    "|Apache Spark|\n",
    "|SAS|\n"
   ]
  },
  {
   "cell_type": "markdown",
   "id": "08bc3204-3ba7-484b-92ca-087aeb93e4dd",
   "metadata": {},
   "source": [
    "### Below are a few examples of evaluating arithmetic expressions in Python."
   ]
  },
  {
   "cell_type": "code",
   "execution_count": 8,
   "id": "56bb155a-8600-4d9b-b056-ac3ed21e6282",
   "metadata": {},
   "outputs": [
    {
     "data": {
      "text/plain": [
       "17"
      ]
     },
     "execution_count": 8,
     "metadata": {},
     "output_type": "execute_result"
    }
   ],
   "source": [
    "#This is a simple arithmetic expression to multiply then add integers.\n",
    "(3*4)+5"
   ]
  },
  {
   "cell_type": "code",
   "execution_count": 10,
   "id": "b3f1bb8a-02b3-4bf9-9d1c-b45d1bc4c4e3",
   "metadata": {},
   "outputs": [
    {
     "data": {
      "text/plain": [
       "3.3333333333333335"
      ]
     },
     "execution_count": 10,
     "metadata": {},
     "output_type": "execute_result"
    }
   ],
   "source": [
    "#This will convert 200 minutes to hours by diving by 60.\n",
    "200/60"
   ]
  },
  {
   "cell_type": "markdown",
   "id": "779cb766-5029-4c72-a316-d0b0ccfe15f9",
   "metadata": {},
   "source": [
    "## Author\n",
    "Jana Seidelová"
   ]
  },
  {
   "cell_type": "code",
   "execution_count": null,
   "id": "160b0780-62dc-493e-b1d8-f467e5dff972",
   "metadata": {},
   "outputs": [],
   "source": []
  }
 ],
 "metadata": {
  "kernelspec": {
   "display_name": "Python 3 (ipykernel)",
   "language": "python",
   "name": "python3"
  },
  "language_info": {
   "codemirror_mode": {
    "name": "ipython",
    "version": 3
   },
   "file_extension": ".py",
   "mimetype": "text/x-python",
   "name": "python",
   "nbconvert_exporter": "python",
   "pygments_lexer": "ipython3",
   "version": "3.11.7"
  }
 },
 "nbformat": 4,
 "nbformat_minor": 5
}
